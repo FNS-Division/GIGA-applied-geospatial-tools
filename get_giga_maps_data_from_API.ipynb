{
 "cells": [
  {
   "cell_type": "markdown",
   "id": "0",
   "metadata": {},
   "source": [
    "<a href=\"https://colab.research.google.com/github/FNS-Division/GIGA-applied-geospatial-tools/blob/main/get_giga_maps_data_from_API.ipynb\" target=\"_parent\"><img src=\"https://colab.research.google.com/assets/colab-badge.svg\" alt=\"Open In Colab\"/></a>"
   ]
  },
  {
   "cell_type": "markdown",
   "id": "1",
   "metadata": {},
   "source": [
    "# Get data from Giga Maps"
   ]
  },
  {
   "cell_type": "code",
   "execution_count": null,
   "id": "2",
   "metadata": {},
   "outputs": [],
   "source": [
    "import requests\n",
    "import pycountry\n",
    "import ipywidgets as widgets\n",
    "import pandas as pd\n",
    "import geopandas as gpd\n",
    "from IPython.display import display, clear_output"
   ]
  },
  {
   "cell_type": "code",
   "execution_count": null,
   "id": "3",
   "metadata": {},
   "outputs": [],
   "source": [
    "# @title Select country\n",
    "# Create dropdown: country name shown, ISO3 code stored\n",
    "country_dropdown = widgets.Dropdown(\n",
    "    options=sorted([(c.name, c.alpha_3) for c in pycountry.countries]),\n",
    "    description='Country:',\n",
    "    value='BRA'\n",
    ")\n",
    "\n",
    "display(country_dropdown)"
   ]
  },
  {
   "cell_type": "code",
   "execution_count": null,
   "id": "4",
   "metadata": {},
   "outputs": [],
   "source": [
    "#Choose country to get school location data using ISO code\n",
    "country_code = \"\""
   ]
  },
  {
   "cell_type": "code",
   "execution_count": null,
   "id": "5",
   "metadata": {},
   "outputs": [],
   "source": [
    "# Set your unique API key (from Giga maps)\n",
    "api_key = \"\""
   ]
  },
  {
   "cell_type": "code",
   "execution_count": null,
   "id": "6",
   "metadata": {},
   "outputs": [],
   "source": [
    "# URL for API endpoint (using selected country)\n",
    "BASE_URL = f\"https://uni-ooi-giga-maps-service.azurewebsites.net/api/v1/schools_location/country/{country_code}\"\n",
    "\n",
    "#Headers\n",
    "headers = {\n",
    "    \"accept\": \"application/json\",\n",
    "    \"Authorization\": f\"Bearer {api_key}\"\n",
    "}"
   ]
  },
  {
   "cell_type": "code",
   "execution_count": null,
   "id": "7",
   "metadata": {},
   "outputs": [],
   "source": [
    "# Parameters (see Giga Maps API docs)\n",
    "# Requests need to be paginated- split up into multiple requests to prevent overloading the API\n",
    "page = 1\n",
    "\n",
    "# Current max page size is 100, meaning each request sends \n",
    "size = 1000"
   ]
  },
  {
   "cell_type": "code",
   "execution_count": null,
   "id": "8",
   "metadata": {},
   "outputs": [],
   "source": [
    "# Creates a list to store all the responses from API requests\n",
    "all_schools = []\n",
    "\n",
    "# Loop through pages until all school location data has been collected\n",
    "while True:\n",
    "    params = {\n",
    "        \"page\": page,\n",
    "        \"size\": size\n",
    "    }\n",
    "    \n",
    "   # Request schools from the API endpoint \n",
    "    response = requests.get(BASE_URL, headers=headers, params=params)\n",
    "\n",
    "    # Ensure that the response from the API is correct. With an incorrect response, no more requests will be sent\n",
    "    if response.status_code != 200:\n",
    "        print(f\"Request failed at page {page}: {response.status_code}\")\n",
    "        break\n",
    "\n",
    "    # Extract the schools returned from the API\n",
    "    data = response.json()['data']\n",
    "\n",
    "    # Check that the most recent request receives data in the response\n",
    "    if not data or len(data) == 0:\n",
    "        print(f\"No more data returned at page {page}.\")\n",
    "        break\n",
    "\n",
    "    #Continuously add newly fetched schools to the all_schools list\n",
    "    all_schools.extend(data)\n",
    "    clear_output(wait=True)\n",
    "    display(f\"Fetched page {page}, items received: {len(data)}\")\n",
    "    page += 1"
   ]
  },
  {
   "cell_type": "code",
   "execution_count": null,
   "id": "9",
   "metadata": {},
   "outputs": [],
   "source": [
    "school_data = pd.DataFrame(all_schools)"
   ]
  },
  {
   "cell_type": "code",
   "execution_count": null,
   "id": "10",
   "metadata": {},
   "outputs": [],
   "source": [
    "school_data.columns"
   ]
  },
  {
   "cell_type": "code",
   "execution_count": null,
   "id": "11",
   "metadata": {},
   "outputs": [],
   "source": [
    "school_data = gpd.GeoDataFrame(school_data, geometry=gpd.points_from_xy(school_data.longitude, school_data.latitude), crs=\"4326\")"
   ]
  },
  {
   "cell_type": "code",
   "execution_count": null,
   "id": "12",
   "metadata": {},
   "outputs": [],
   "source": [
    "# Save the filtered data to a CSV file\n",
    "school_data.to_file(\"school_data.geojson\", driver=\"GeoJSON\")"
   ]
  }
 ],
 "metadata": {
  "kernelspec": {
   "display_name": "Python 3 (ipykernel)",
   "language": "python",
   "name": "python3"
  },
  "language_info": {
   "codemirror_mode": {
    "name": "ipython",
    "version": 3
   },
   "file_extension": ".py",
   "mimetype": "text/x-python",
   "name": "python",
   "nbconvert_exporter": "python",
   "pygments_lexer": "ipython3",
   "version": "3.12.7"
  }
 },
 "nbformat": 4,
 "nbformat_minor": 5
}
