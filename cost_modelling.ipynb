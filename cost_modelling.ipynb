{
 "cells": [
  {
   "cell_type": "markdown",
   "metadata": {
    "id": "ig162kpHbCb3"
   },
   "source": [
    "<a href=\"https://colab.research.google.com/github/FNS-Division/GIGA-applied-geospatial-tools/blob/main/cost_modelling.ipynb\" target=\"_parent\"><img src=\"https://colab.research.google.com/assets/colab-badge.svg\" alt=\"Open In Colab\"/></a>"
   ]
  },
  {
   "cell_type": "markdown",
   "metadata": {
    "id": "xMamukGjupWM"
   },
   "source": [
    "![Logo](https://www.itu.int/web/pp-18/assets/logo/itu_logo.png)"
   ]
  },
  {
   "cell_type": "markdown",
   "metadata": {
    "id": "GMJZ6d9piZ3m"
   },
   "source": [
    "# Cost analysis"
   ]
  },
  {
   "cell_type": "markdown",
   "metadata": {
    "id": "UZfFGOmB308J"
   },
   "source": [
    "In this notebook, we will:\n",
    "\n",
    "- Load the results from our previous exercises done on QGIS\n",
    "- Asssess which technologies are feasible for each school\n",
    "- Estimate the cost (CAPEX and OPEX) of connecting schools with each technology\n",
    "- Select the option among those feasible that maximizes operator net revenue\n",
    "- Display the costs and revenues for this solution\n",
    "- Display the technology assignment results on a map"
   ]
  },
  {
   "cell_type": "markdown",
   "metadata": {
    "id": "bl_KaWBNiZ3m"
   },
   "source": [
    "## Setting up our Python environment"
   ]
  },
  {
   "cell_type": "markdown",
   "metadata": {
    "id": "QoAerDlniZ3n"
   },
   "source": [
    "We import Python libraries needed for our cost analysis:\n",
    "\n",
    "- Computing libraries (`pandas`, `numpy`) for calculations\n",
    "- GIS libraries (`geopandas`) for mapping\n",
    "- Visualization libraries (`matplotlib`, `folium`, `seaborn`) for creating graphs and maps\n",
    "\n",
    "These will help us analyze and visualize the costs of different connectivity options."
   ]
  },
  {
   "cell_type": "code",
   "execution_count": null,
   "metadata": {
    "executionInfo": {
     "elapsed": 4,
     "status": "ok",
     "timestamp": 1746434062055,
     "user": {
      "displayName": "Sébastien Peytrignet",
      "userId": "16751219594389189725"
     },
     "user_tz": -120
    },
    "id": "jKsfdjwriZ3n"
   },
   "outputs": [],
   "source": [
    "# Data handling\n",
    "import pandas as pd\n",
    "import numpy as np\n",
    "\n",
    "# Graph and spatial libraries\n",
    "import geopandas as gpd\n",
    "\n",
    "# Visualization\n",
    "import matplotlib.pyplot as plt\n",
    "import folium\n",
    "import seaborn as sns\n",
    "from matplotlib.ticker import FuncFormatter\n",
    "\n",
    "# Notebook interaction and display\n",
    "import ipywidgets as widgets\n",
    "from IPython.display import display"
   ]
  },
  {
   "cell_type": "markdown",
   "metadata": {
    "id": "N2enwCHniZ3o"
   },
   "source": [
    "## Set analysis parameters"
   ]
  },
  {
   "cell_type": "markdown",
   "metadata": {
    "id": "uxTVg4D0iZ3o"
   },
   "source": [
    "We create an interactive interface to set important cost variables for different connection technologies (Fiber, Cellular, Point-to-Point, and Satellite).\n",
    "\n",
    "For each technology, we can adjust:\n",
    "\n",
    "- **CAPEX**: One-time installation costs (equipment, setup) in USD\n",
    "- **OPEX**: Ongoing yearly costs (maintenance, service fees) in USD\n",
    "- **ARPU**: Annual Revenue Per User (expected income per person) in USD\n",
    "\n",
    "We also set the **maximum fiber cable length** per school and **analysis timeframe** in years."
   ]
  },
  {
   "cell_type": "markdown",
   "metadata": {
    "id": "CQ7lDcd2Hg4I"
   },
   "source": [
    "**Estimating Number of Users:**\n",
    "\n",
    "- In our case, the number of users is the number of pupils who will access the internet at each school.\n",
    "- First, we count the number of residents living within each school's radius (see figure).\n",
    "- Then, we multiply the number of residents by the percentage of school-age population.\n",
    "\n",
    "This gives us our estimated number of users per 100 residents in a radius around each school.\n",
    "\n",
    "_Table. Number of internet users in Brazil._\n",
    "\n",
    "| Metric | Value | Source |\n",
    "|--------|--------|---------|\n",
    "| Population of School Age (%) | 20.00 | [WorldBank](https://data.worldbank.org/indicator/SP.POP.0014.TO.ZS) |\n",
    "| Users per 100 Residents | 20.00 | - |\n",
    "\n",
    "_Figure. 1km buffers around schools overlaid with population data._\n",
    "\n",
    "<a href=\"https://ibb.co/dB09sHB\"><img src=\"https://i.ibb.co/9n9Xmdn/demand-buffers.jpg\" alt=\"demand-buffers\" border=\"0\"></a>"
   ]
  },
  {
   "cell_type": "markdown",
   "metadata": {
    "id": "-gdLKa15IMu3"
   },
   "source": [
    "**Estimating Annual Revenue per User (ARPU):**\n",
    "\n",
    "- Start with the monthly cost of an appropriate data bundle.\n",
    "- Multiply by the number of school months in the year.\n",
    "\n",
    "A note about operator revenues:\n",
    "\n",
    "- We use mobile internet costs as our baseline.\n",
    "- This is because mobile cost data *per user* is widely available.\n",
    "\n",
    "_Table. Operator revenues in Brazil._\n",
    "\n",
    "| Metric | Value | Source |\n",
    "|--------|--------|---------|\n",
    "| Monthly Cost of 10GB Data (USD) | 5.00 | [TIM](https://prepaid-data-sim-card.fandom.com/wiki/Brazil) |\n",
    "| School Year Duration (months) | 9.00 | Education System Data |\n",
    "| Annual Revenue Per User (USD) | 45 |  |"
   ]
  },
  {
   "cell_type": "code",
   "execution_count": null,
   "metadata": {
    "cellView": "form",
    "colab": {
     "base_uri": "https://localhost:8080/",
     "height": 205,
     "referenced_widgets": [
      "0c8a875f265f4bc59ab38b204c3861a4",
      "8547129b77154f17991d578e8550d272",
      "da06392142aa42048974084588ff5d1c",
      "b5a173f609594906bd35dd3ba295d810",
      "6391f636b67b408c89906131d4255cd6",
      "e966aaeaef774ee7a7bf5586145aa758",
      "7a9bb11c4de442d380dbf116cc226dc9",
      "4445b14271aa4665b1bf270090dd8643",
      "6bb47022f59d4421a4e28922bb8af787",
      "ef858aeb887e4a7e88afa9c758647ca9",
      "191f9e23a1f342ada6dbc2769f4932e1",
      "534a527644ce45bca90da8c3c247101f",
      "cb2d165ebd854ce380375b70e6e11eee",
      "7d520642a4aa404eb7bebde82932a28d",
      "ac56b35030354b7a92cc1cc1afebabaa",
      "2dbc5e75893c4c3b8a8c705fdbfe8fcb",
      "ca3d4d1e68ec42a89dd5e548c9b2a8cc",
      "7ba9e686a7494d4dab6bff49927f29b9",
      "55dbb8d069ef4163b4db664c558449c4",
      "44519c41c48f4688abf1ee3ae7cee7e3",
      "656dfad4c6d0468393b7e3edf6b57151",
      "87945f699f474b799f4a5a17655d4ece",
      "b98f19f11ff04c42883e31b873541f2d",
      "4cd1fba9015a4a6f976cd9df06bbd266",
      "63588fd911c6416a85df36ba7db3b97d",
      "aabb534aee974b7693ec3fc1ea82e0f0",
      "fba49e2e5c0740f5a85fcc24aa2d9ca6",
      "a3cd817d223c4799b09170352f020418",
      "d2d11129e35f40c49098b8ed4855bc68",
      "7bc82591dbee45d0bd9c8bd5ca201816",
      "292b1bdf0820423eb13730dac5c4d9a9",
      "ba7e85e613f24e328f5fe9d02ea98b02",
      "d3144aeafeac44f3a8732346e889d9a2",
      "9f67c2376009460b85d9de59a6e5629d",
      "d21f782425b04d94b6ce160c8801543c",
      "1234956824384de680db4e08505bb97a",
      "e5f82e5d4bad4c318ca92e057ff2d0b4",
      "8ab75902e63c414f81b5daaee33b8610",
      "6077d5376c984481a43e8b6d84815cb4",
      "1515755a1f1e4cafb822c912194eede2",
      "93d4c7c4e9be4cfeb13348c7e6740b84",
      "55e86bf16ea846ccb7d78b845c54339c",
      "a0b54926f7e940e1868c31f66f5a8b8e",
      "92eaebc147404677ae4e0dae6f2df094",
      "761f71ea1350403da9e6bd2cb25894e4",
      "f3cd4503ba784bf79a7b153de7fc5984",
      "3003b6e9e302403fad9e7bfc1a4e3dde",
      "6ea028b1c56a4cb2ad8debd06751a6d7",
      "5a424207c448420a99ebdf313c7cfead",
      "c83febdfb55646099a8235cc623d5370",
      "698b30cdea1b45f4910170a53e33303d",
      "b9aeb93e546d40859398ffac7b10c0bc",
      "2eb34ee0bfca411e9f64222966c2066f",
      "2a6fbcf86eb94f3b8bb729f4fe631df4",
      "29ecc146fade40389b16fe4875e1e599",
      "215bc2edf5a045b89093916b8a52bf88",
      "77879018a3954fc49f3335b36bfe6079",
      "7ab0593ec55c45e3b30b3863e5866931"
     ]
    },
    "executionInfo": {
     "elapsed": 161,
     "status": "ok",
     "timestamp": 1746434695548,
     "user": {
      "displayName": "Sébastien Peytrignet",
      "userId": "16751219594389189725"
     },
     "user_tz": -120
    },
    "id": "wu53w8R6iZ3o",
    "outputId": "9eaf06d0-3a94-4c7a-b0c0-05509e3330c4"
   },
   "outputs": [],
   "source": [
    "# @title Cost parameters\n",
    "# Common layout for all widgets\n",
    "# Custom Styling\n",
    "box_style = \"background-color: #f9f9f9; padding: 10px; border-radius: 10px; margin-bottom: 10px;\"\n",
    "title_style = \"font-size:16px; font-weight:bold; color:#444;\"\n",
    "\n",
    "# Common Layout for all widgets\n",
    "item_layout = widgets.Layout(width='95%', flex='1 1 auto')\n",
    "\n",
    "# Parameters for each technology\n",
    "technologies = ['fiber', 'p2area', 'p2p', 'satellite']\n",
    "tech_controls = {}\n",
    "\n",
    "for tech in technologies:\n",
    "    tech_controls[tech] = {\n",
    "        'CAPEX': widgets.FloatSlider(\n",
    "            description='CAPEX (USD):',\n",
    "            min=0, max=10000, step=1, value=1000,\n",
    "            layout=item_layout, style={'description_width': 'initial'}, readout_format=',.0f'\n",
    "        ),\n",
    "        'OPEX': widgets.FloatSlider(\n",
    "            description='OPEX (USD):',\n",
    "            min=0, max=5000, step=1, value=500,\n",
    "            layout=item_layout, style={'description_width': 'initial'}, readout_format=',.0f'\n",
    "        ),\n",
    "        'ARPU': widgets.FloatSlider(\n",
    "            description='ARPU (USD):',\n",
    "            min=0, max=500, step=1, value=45,\n",
    "            layout=item_layout, style={'description_width': 'initial'}, readout_format=',.0f'\n",
    "        )\n",
    "    }\n",
    "\n",
    "    # Add max fiber length parameter only to Fiber\n",
    "    if tech == 'fiber':  # FIX: Corrected case sensitivity\n",
    "        tech_controls[tech]['max_length'] = widgets.FloatSlider(\n",
    "            description='Max Fiber Length (km):',\n",
    "            min=0, max=50, step=1, value=1,\n",
    "            layout=item_layout, style={'description_width': 'initial'}, readout_format=',.0f'\n",
    "        )\n",
    "\n",
    "# Overall parameters\n",
    "num_years = widgets.IntSlider(\n",
    "    description='Number of years:', min=1, max=50, step=1, value=10,\n",
    "    layout=item_layout, style={'description_width': 'initial'}, readout_format=',.0f'\n",
    ")\n",
    "\n",
    "users_per_pop = widgets.FloatSlider(\n",
    "    description='Users per 100 residents:', min=0, max=100, step=1, value=20,\n",
    "    layout=item_layout, style={'description_width': 'initial'}, readout_format=',.3f'\n",
    ")\n",
    "\n",
    "# Arrange controls in a visually appealing layout\n",
    "tech_layouts = []\n",
    "for tech, controls in tech_controls.items():\n",
    "    tech_layouts.append(\n",
    "        widgets.VBox(\n",
    "            [widgets.HTML(value=f\"<div style='{title_style}'>{tech.capitalize()}</div>\")] +\n",
    "            [controls[param] for param in controls],\n",
    "            layout=widgets.Layout(\n",
    "                border='solid 1px #ddd', padding='10px', margin='5px',\n",
    "                background='#f5f5f5', border_radius='8px'\n",
    "            )\n",
    "        )\n",
    "    )\n",
    "\n",
    "overall_layout = widgets.VBox(\n",
    "    [widgets.HTML(value=f\"<div style='{title_style}'>Overall Parameters</div>\"), num_years, users_per_pop],\n",
    "    layout=widgets.Layout(padding='10px', margin='5px', background='#f0f0f0', border_radius='8px')\n",
    ")\n",
    "\n",
    "# Use Tabs for better organization\n",
    "tab = widgets.Tab()\n",
    "tab.children = [overall_layout] + tech_layouts\n",
    "for i, title in enumerate([\"Overall\"] + [t.capitalize() for t in technologies]):\n",
    "    tab.set_title(i, title)\n",
    "\n",
    "# Set default values\n",
    "tech_controls['satellite']['CAPEX'].value = 8000  # High one-time cost\n",
    "tech_controls['satellite']['OPEX'].value = 4000   # High annual maintenance\n",
    "\n",
    "tech_controls['p2p']['CAPEX'].value = 2000\n",
    "tech_controls['p2p']['OPEX'].value = 800\n",
    "\n",
    "tech_controls['p2area']['CAPEX'].value = 1500   # Slightly cheaper than P2P\n",
    "tech_controls['p2area']['OPEX'].value = 600     # Slightly cheaper than P2P\n",
    "\n",
    "tech_controls['fiber']['CAPEX'].value = 4000      # Medium one-time cost\n",
    "tech_controls['fiber']['OPEX'].value = 2000       # Medium annual maintenance\n",
    "\n",
    "# Convert to scalars\n",
    "user_ratio = users_per_pop.value / 100\n",
    "years = num_years.value\n",
    "fiber_max_length = tech_controls['fiber']['max_length'].value\n",
    "fiber_arpu = tech_controls['fiber']['ARPU'].value\n",
    "p2area_arpu = tech_controls['p2area']['ARPU'].value\n",
    "p2p_arpu = tech_controls['p2p']['ARPU'].value\n",
    "satellite_arpu = tech_controls['satellite']['ARPU'].value\n",
    "fiber_capex = tech_controls['fiber']['CAPEX'].value\n",
    "p2area_capex = tech_controls['p2area']['CAPEX'].value\n",
    "p2p_capex = tech_controls['p2p']['CAPEX'].value\n",
    "satellite_capex = tech_controls['satellite']['CAPEX'].value\n",
    "fiber_opex = tech_controls['fiber']['OPEX'].value\n",
    "p2area_opex = tech_controls['p2area']['OPEX'].value\n",
    "p2p_opex = tech_controls['p2p']['OPEX'].value\n",
    "satellite_opex = tech_controls['satellite']['OPEX'].value\n",
    "\n",
    "# Display the tab layout\n",
    "display(tab)"
   ]
  },
  {
   "cell_type": "markdown",
   "metadata": {
    "id": "p2FB7H42iZ3o"
   },
   "source": [
    "## Import files"
   ]
  },
  {
   "cell_type": "markdown",
   "metadata": {
    "id": "A89JwPp4iZ3q"
   },
   "source": [
    "### Results from previous analyses"
   ]
  },
  {
   "cell_type": "markdown",
   "metadata": {
    "id": "sYTQ3Vn0MyiI"
   },
   "source": [
    "We load our previously calculated analysis results:\n",
    "\n",
    "- **Proximity data**: distances to existing infrastructure\n",
    "- **Coverage data**: which areas have cellular service\n",
    "- **Demand data**: number of potential users near each school\n",
    "- **Visibility data**: line-of-sight between schools and towers\n",
    "- **Fiber path data**: distance between schools and fiber nodes\n",
    "\n",
    "This gives us the foundation for our revenue and cost calculations."
   ]
  },
  {
   "cell_type": "code",
   "execution_count": null,
   "metadata": {
    "colab": {
     "base_uri": "https://localhost:8080/",
     "height": 449
    },
    "executionInfo": {
     "elapsed": 1217,
     "status": "ok",
     "timestamp": 1746434063519,
     "user": {
      "displayName": "Sébastien Peytrignet",
      "userId": "16751219594389189725"
     },
     "user_tz": -120
    },
    "id": "RcDGy5-qiZ3q",
    "outputId": "e705537a-17b8-4d20-d0af-211d74009fb8"
   },
   "outputs": [],
   "source": [
    "# STEP 1: Load results from previous analyses using Geopandas\n",
    "# The file contains the proximity, coverage, demand, fiber path and visibility analyses\n",
    "merged_results = gpd.read_file(\"https://zstagigaprodeuw1.blob.core.windows.net/gigainframapkit-public-container/brazil/merged_amazonas.geojson\")\n",
    "\n",
    "# STEP 2: Set up the table to use school_id as the main identifier\n",
    "merged_results = merged_results.set_index(\"school_id\")\n",
    "\n",
    "# STEP 3: Show the first few rows of data to check what we loaded\n",
    "merged_results.head()"
   ]
  },
  {
   "cell_type": "code",
   "execution_count": null,
   "metadata": {
    "colab": {
     "base_uri": "https://localhost:8080/",
     "height": 461
    },
    "executionInfo": {
     "elapsed": 19,
     "status": "ok",
     "timestamp": 1746434063541,
     "user": {
      "displayName": "Sébastien Peytrignet",
      "userId": "16751219594389189725"
     },
     "user_tz": -120
    },
    "id": "QGcIZ6UxbCb7",
    "outputId": "d62bd96a-05ae-413f-c743-f6d8464260a5"
   },
   "outputs": [],
   "source": [
    "# We can inspect the data types in the dataframe\n",
    "# cell_site_distance, fiber_node_distance and population_1km are float64 (numerical)\n",
    "# coverage and visible are bool (`True` or `False`)\n",
    "# geometry is geometry (a geospatial column type)\n",
    "merged_results.dtypes"
   ]
  },
  {
   "cell_type": "code",
   "execution_count": null,
   "metadata": {
    "colab": {
     "base_uri": "https://localhost:8080/",
     "height": 490
    },
    "executionInfo": {
     "elapsed": 4,
     "status": "ok",
     "timestamp": 1746434063546,
     "user": {
      "displayName": "Sébastien Peytrignet",
      "userId": "16751219594389189725"
     },
     "user_tz": -120
    },
    "id": "1IHMberGbCb7",
    "outputId": "e919d303-14fc-4e5b-d892-1623fc69323d"
   },
   "outputs": [],
   "source": [
    "# To select column 'coverage', use square brackets\n",
    "merged_results['coverage']"
   ]
  },
  {
   "cell_type": "code",
   "execution_count": null,
   "metadata": {
    "colab": {
     "base_uri": "https://localhost:8080/",
     "height": 461
    },
    "executionInfo": {
     "elapsed": 30,
     "status": "ok",
     "timestamp": 1746434063577,
     "user": {
      "displayName": "Sébastien Peytrignet",
      "userId": "16751219594389189725"
     },
     "user_tz": -120
    },
    "id": "mAkMw6PAbCb7",
    "outputId": "39beccdf-c20d-4a29-9863-24313c6ab095"
   },
   "outputs": [],
   "source": [
    "# To select the row for school 1, use .loc and square bracketswith the index\n",
    "merged_results.loc[1]"
   ]
  },
  {
   "cell_type": "code",
   "execution_count": null,
   "metadata": {
    "colab": {
     "base_uri": "https://localhost:8080/",
     "height": 357
    },
    "executionInfo": {
     "elapsed": 219,
     "status": "ok",
     "timestamp": 1746434063797,
     "user": {
      "displayName": "Sébastien Peytrignet",
      "userId": "16751219594389189725"
     },
     "user_tz": -120
    },
    "id": "6PyqQc0DiApq",
    "outputId": "87ba9b01-9a51-4064-b62e-24e711fdd662"
   },
   "outputs": [],
   "source": [
    "# We can quickly plot the merged_results GeoDataFrame to see the locations of schools using the plot() method\n",
    "merged_results.plot()"
   ]
  },
  {
   "cell_type": "code",
   "execution_count": null,
   "metadata": {
    "executionInfo": {
     "elapsed": 1708,
     "status": "ok",
     "timestamp": 1746434065506,
     "user": {
      "displayName": "Sébastien Peytrignet",
      "userId": "16751219594389189725"
     },
     "user_tz": -120
    },
    "id": "SLAIZOt3iLHD"
   },
   "outputs": [],
   "source": [
    "# We also load the 4G coverage contours again, so we can display them later on\n",
    "coverage_4G = gpd.read_file(\"https://zstagigaprodeuw1.blob.core.windows.net/gigainframapkit-public-container/brazil/amazonas-mobile-coverage.geojson\")"
   ]
  },
  {
   "cell_type": "code",
   "execution_count": null,
   "metadata": {
    "colab": {
     "base_uri": "https://localhost:8080/",
     "height": 370
    },
    "executionInfo": {
     "elapsed": 1117,
     "status": "ok",
     "timestamp": 1746434066625,
     "user": {
      "displayName": "Sébastien Peytrignet",
      "userId": "16751219594389189725"
     },
     "user_tz": -120
    },
    "id": "IFY2y_M1jOTd",
    "outputId": "e9684d02-da6b-4c1a-9026-c63180691f70"
   },
   "outputs": [],
   "source": [
    "# Similarly, we can also use the plot method to quickly visualize the coverage contours\n",
    "coverage_4G.plot()"
   ]
  },
  {
   "cell_type": "markdown",
   "metadata": {
    "id": "R1Gq2QndiZ3q"
   },
   "source": [
    "## Assess feasibility of technologies for each school"
   ]
  },
  {
   "cell_type": "markdown",
   "metadata": {
    "id": "08yFty9LiZ3q"
   },
   "source": [
    "We determine which connection technologies are possible for each school based on:\n",
    "\n",
    "- **Fiber**: Is it close enough to existing fiber networks?\n",
    "- **Cellular**: Is it in an area with coverage?\n",
    "- **Point-to-Point**: Does it have line-of-sight to towers?\n",
    "- **Satellite**: Always feasible, but often more expensive.\n",
    "\n",
    "This helps eliminate impossible options before cost analysis."
   ]
  },
  {
   "cell_type": "code",
   "execution_count": null,
   "metadata": {
    "executionInfo": {
     "elapsed": 16,
     "status": "ok",
     "timestamp": 1746434066627,
     "user": {
      "displayName": "Sébastien Peytrignet",
      "userId": "16751219594389189725"
     },
     "user_tz": -120
    },
    "id": "tpc-5GcriZ3q"
   },
   "outputs": [],
   "source": [
    "# Create a new table to track which technologies are possible for each school\n",
    "feasibility = merged_results.copy()\n",
    "\n",
    "# Check if FIBER is possible:\n",
    "# Create a boolean column (True/False) based on the distance to the nearest fiber node\n",
    "feasibility[\"fiber_feasible\"] = feasibility[\"fiber_node_distance\"] <= fiber_max_length*1000\n",
    "\n",
    "# Check if CELLULAR (P2AREA) is possible:\n",
    "# Use existing coverage information (True/False)\n",
    "feasibility[\"p2area_feasible\"] = feasibility[\"coverage\"]\n",
    "\n",
    "# Check if POINT-TO-POINT (P2P) is possible:\n",
    "# Use existing line-of-sight visibility information (True/False)\n",
    "feasibility[\"p2p_feasible\"] = feasibility[\"visible\"]\n",
    "\n",
    "# Check if SATELLITE is possible:\n",
    "# Satellite is always feasible since it works everywhere\n",
    "feasibility[\"satellite_feasible\"] = True\n",
    "\n",
    "# Keep only the columns that show what's feasible\n",
    "feasibility = feasibility[[\"fiber_feasible\",\n",
    "                          \"p2area_feasible\",\n",
    "                          \"p2p_feasible\",\n",
    "                          \"satellite_feasible\"]]"
   ]
  },
  {
   "cell_type": "code",
   "execution_count": null,
   "metadata": {
    "colab": {
     "base_uri": "https://localhost:8080/",
     "height": 238
    },
    "executionInfo": {
     "elapsed": 21,
     "status": "ok",
     "timestamp": 1746434066659,
     "user": {
      "displayName": "Sébastien Peytrignet",
      "userId": "16751219594389189725"
     },
     "user_tz": -120
    },
    "id": "T7QRKCmFiZ3r",
    "outputId": "9e90a00b-a477-4ea5-baba-7a30861e853b"
   },
   "outputs": [],
   "source": [
    "# Display feasibility, showing the first few rows\n",
    "# We have four boolean (True/False) columns, one for each technology\n",
    "feasibility.head()"
   ]
  },
  {
   "cell_type": "code",
   "execution_count": null,
   "metadata": {
    "cellView": "form",
    "colab": {
     "base_uri": "https://localhost:8080/",
     "height": 606
    },
    "executionInfo": {
     "elapsed": 241,
     "status": "ok",
     "timestamp": 1746434066901,
     "user": {
      "displayName": "Sébastien Peytrignet",
      "userId": "16751219594389189725"
     },
     "user_tz": -120
    },
    "id": "kNL99W4fiZ3r",
    "outputId": "55d50dd9-a253-4a90-e507-f6b39d1debce"
   },
   "outputs": [],
   "source": [
    "# @title Figure: Technology Feasibility\n",
    "# Create feasibility counts for bar chart\n",
    "feasibility_counts = {\n",
    "   'fiber': feasibility['fiber_feasible'].sum(),\n",
    "   'p2area': feasibility['p2area_feasible'].sum(),\n",
    "   'p2p': feasibility['p2p_feasible'].sum(),\n",
    "   'satellite': feasibility['satellite_feasible'].sum()\n",
    "}\n",
    "color_map = {\n",
    "   'p2area': '#1b9e77',\n",
    "   'satellite': '#d95f02',\n",
    "   'fiber': '#7570b3',\n",
    "   'p2p': '#e7298a',\n",
    "   'unconnected': '#bababa'\n",
    "}\n",
    "plt.figure(figsize=(10, 6))\n",
    "technologies = list(feasibility_counts.keys())\n",
    "counts = list(feasibility_counts.values())\n",
    "colors = [color_map[tech] for tech in technologies]\n",
    "bars = plt.bar(technologies, counts, color=colors)\n",
    "\n",
    "# Add the numbers on top of the bars\n",
    "for bar in bars:\n",
    "    height = bar.get_height()\n",
    "    plt.text(bar.get_x() + bar.get_width()/2., height + 0.05*max(counts),\n",
    "             f'{int(height):,}',\n",
    "             ha='center', va='bottom', fontsize=11, fontweight='bold')\n",
    "\n",
    "plt.title('Count of feasible technologies', pad=20)\n",
    "plt.xlabel('Technology')\n",
    "plt.ylabel('Number of schools')\n",
    "plt.grid(axis='y', linestyle='--', alpha=0.7)\n",
    "plt.gca().yaxis.set_major_formatter(FuncFormatter(lambda x, p: format(int(x), ',')))\n",
    "plt.tight_layout()"
   ]
  },
  {
   "cell_type": "markdown",
   "metadata": {
    "id": "GO5z4fgtiZ3r"
   },
   "source": [
    "## Compute operator revenues for each school and technology"
   ]
  },
  {
   "cell_type": "markdown",
   "metadata": {
    "id": "OO_9c03giZ3r"
   },
   "source": [
    "For each feasible technology at each school, we calculate the potential revenue. This shows which technologies might be profitable for service providers - as summarised in the figure below."
   ]
  },
  {
   "cell_type": "markdown",
   "metadata": {
    "id": "MwJrQLsX4N7w"
   },
   "source": [
    "\n",
    "_Figure. Net revenue._\n",
    "\n",
    "<a href=\"https://ibb.co/3sy1qTr\"><img src=\"https://i.ibb.co/LPzSW0k/net-revenues.jpg\" alt=\"net-revenues\" border=\"0\"></a>"
   ]
  },
  {
   "cell_type": "code",
   "execution_count": null,
   "metadata": {
    "executionInfo": {
     "elapsed": 1,
     "status": "ok",
     "timestamp": 1746434066921,
     "user": {
      "displayName": "Sébastien Peytrignet",
      "userId": "16751219594389189725"
     },
     "user_tz": -120
    },
    "id": "Lqwr63ZRiZ3r"
   },
   "outputs": [],
   "source": [
    "# Make a fresh copy of our results table to store revenue calculations\n",
    "net_revenues = merged_results.copy()\n",
    "\n",
    "# FIBER CALCULATIONS\n",
    "  # Calculate yearly revenue: monthly fee × number of users (population × users per 100 residents)\n",
    "fiber_annual_revenue = fiber_arpu * merged_results[\"population_1km\"] * user_ratio\n",
    "  # Calculate total costs: one-time setup cost + (yearly OPEX × number of years)\n",
    "fiber_total_costs = fiber_capex + fiber_opex * years\n",
    "  # Calculate profit: (yearly revenue × number of years) - total costs\n",
    "net_revenues[\"fiber_net_revenue\"] = fiber_annual_revenue * years - fiber_total_costs\n",
    "\n",
    "# CELLULAR (P2AREA) CALCULATIONS\n",
    "cellular_annual_revenue = p2area_arpu * merged_results[\"population_1km\"] * user_ratio\n",
    "cellular_total_costs = p2area_capex + p2area_opex * years\n",
    "net_revenues[\"p2area_net_revenue\"] = cellular_annual_revenue * years - cellular_total_costs\n",
    "\n",
    "# POINT-TO-POINT (P2P) CALCULATIONS\n",
    "p2p_annual_revenue = p2p_arpu * merged_results[\"population_1km\"] * user_ratio\n",
    "p2p_total_costs = p2p_capex + p2p_opex * years\n",
    "net_revenues[\"p2p_net_revenue\"] = p2p_annual_revenue * years - p2p_total_costs\n",
    "\n",
    "# SATELLITE CALCULATIONS\n",
    "satellite_annual_revenue = satellite_arpu * merged_results[\"population_1km\"] * user_ratio\n",
    "satellite_total_costs = satellite_capex + satellite_opex * years\n",
    "net_revenues[\"satellite_net_revenue\"] = satellite_annual_revenue * years - satellite_total_costs\n",
    "\n",
    "# Keep only the columns showing profit/loss for each technology\n",
    "net_revenues = net_revenues[[\"fiber_net_revenue\", \"p2area_net_revenue\",\n",
    "                           \"p2p_net_revenue\", \"satellite_net_revenue\"]]"
   ]
  },
  {
   "cell_type": "code",
   "execution_count": null,
   "metadata": {
    "executionInfo": {
     "elapsed": 12,
     "status": "ok",
     "timestamp": 1746434066934,
     "user": {
      "displayName": "Sébastien Peytrignet",
      "userId": "16751219594389189725"
     },
     "user_tz": -120
    },
    "id": "rBYae7Vr-y9X"
   },
   "outputs": [],
   "source": [
    "# Create a summary table showing costs for each technology\n",
    "costs = pd.DataFrame({\n",
    "    'technology': ['fiber', 'p2area', 'p2p', 'satellite'],\n",
    "    'total_cost': [fiber_total_costs, cellular_total_costs,\n",
    "                   p2p_total_costs, satellite_total_costs]\n",
    "})\n",
    "# Add a column showing yearly cost (total cost divided by number of years)\n",
    "costs[\"annual_cost\"] = costs[\"total_cost\"] / years\n",
    "\n",
    "# Set cost to missing if technology is not feasible\n",
    "for tech in ['fiber', 'p2area', 'p2p', 'satellite']:\n",
    "    net_revenues.loc[~feasibility[f'{tech}_feasible'], f'{tech}_net_revenue'] = np.nan"
   ]
  },
  {
   "cell_type": "code",
   "execution_count": null,
   "metadata": {
    "colab": {
     "base_uri": "https://localhost:8080/",
     "height": 175
    },
    "executionInfo": {
     "elapsed": 20,
     "status": "ok",
     "timestamp": 1746434066955,
     "user": {
      "displayName": "Sébastien Peytrignet",
      "userId": "16751219594389189725"
     },
     "user_tz": -120
    },
    "id": "D0ABo3XqHa83",
    "outputId": "36b9da0e-794a-49ed-e20b-a6ac2795216d"
   },
   "outputs": [],
   "source": [
    "# Display costs\n",
    "# Here, fiber cost does not vary by length of fiber required\n",
    "costs"
   ]
  },
  {
   "cell_type": "markdown",
   "metadata": {
    "id": "VQ8Y8Hlx8V3a"
   },
   "source": [
    "First, we compare the annual costs (CAPEX and OPEX) for the different technologies."
   ]
  },
  {
   "cell_type": "code",
   "execution_count": null,
   "metadata": {
    "cellView": "form",
    "colab": {
     "base_uri": "https://localhost:8080/",
     "height": 607
    },
    "executionInfo": {
     "elapsed": 268,
     "status": "ok",
     "timestamp": 1746434067224,
     "user": {
      "displayName": "Sébastien Peytrignet",
      "userId": "16751219594389189725"
     },
     "user_tz": -120
    },
    "id": "Z68VmHiQTpXy",
    "outputId": "2cd2604f-d26c-4006-c673-7246714712e4"
   },
   "outputs": [],
   "source": [
    "# @title Figure: annual costs per school\n",
    "# Calculate total cost per school for each technology\n",
    "\n",
    "# Create the plot\n",
    "plt.figure(figsize=(10, 6))\n",
    "sns.barplot(data=costs,\n",
    "            x='technology',\n",
    "            y='annual_cost',\n",
    "            hue='technology',\n",
    "            legend=False,\n",
    "            palette=color_map)\n",
    "\n",
    "plt.title(f'Annual Costs by Technology (CAPEX and OPEX)')\n",
    "plt.ylabel('Annual Cost (USD)')\n",
    "plt.xticks(rotation=0)\n",
    "plt.gca().yaxis.set_major_formatter(FuncFormatter(lambda x, p: format(int(x), ',')))\n",
    "plt.tight_layout()\n",
    "plt.show()"
   ]
  },
  {
   "cell_type": "markdown",
   "metadata": {
    "id": "Pb_si7df8aiy"
   },
   "source": [
    "Then, we compare the revenues associated with each school and technology pair. In this chart below, each dot represents a profit for a school and the bar is the median. Within each technology, schools with a higher number of users have a higher revenue and schools where the technology is not feasible do not appear in the chart."
   ]
  },
  {
   "cell_type": "code",
   "execution_count": null,
   "metadata": {
    "cellView": "form",
    "colab": {
     "base_uri": "https://localhost:8080/",
     "height": 607
    },
    "executionInfo": {
     "elapsed": 417,
     "status": "ok",
     "timestamp": 1746434067640,
     "user": {
      "displayName": "Sébastien Peytrignet",
      "userId": "16751219594389189725"
     },
     "user_tz": -120
    },
    "id": "VhuWT7JmiZ3r",
    "outputId": "934b4e21-6957-4a35-e1f2-5cbd309d1de9"
   },
   "outputs": [],
   "source": [
    "# @title Figure: Net Revenues by Technology\n",
    "# Box plot of net revenues by technology\n",
    "data = net_revenues[['fiber_net_revenue', 'p2area_net_revenue', 'p2p_net_revenue', 'satellite_net_revenue']].melt(\n",
    "   var_name='Technology',\n",
    "   value_name='Revenue'\n",
    ")\n",
    "data['Technology'] = data['Technology'].str.replace('_net_revenue', '')\n",
    "plt.figure(figsize=(10, 6))\n",
    "sns.boxplot(x='Technology', y='Revenue', data=data, palette=color_map, hue='Technology',\n",
    "            showfliers=False, showbox=False, showcaps=False, showmeans=True, meanline=True,\n",
    "            meanprops={'color': 'k', 'ls': '-', 'lw': 2},\n",
    "            medianprops={'visible': False},\n",
    "            whiskerprops={'visible': False},\n",
    "            zorder=10)\n",
    "\n",
    "sns.stripplot(x='Technology', y='Revenue', data=data, alpha=0.5, jitter=True, palette=color_map, hue='Technology')\n",
    "plt.xlabel('')\n",
    "plt.ylabel('Net Revenue (USD) over Planning Period')\n",
    "plt.title('Distribution of Net Revenues by Technology')\n",
    "plt.gca().yaxis.set_major_formatter(FuncFormatter(lambda x, _: f'{int(x):,}'))\n",
    "plt.tight_layout()\n",
    "plt.show()"
   ]
  },
  {
   "cell_type": "markdown",
   "metadata": {
    "id": "q7pQBjQAiZ3r"
   },
   "source": [
    "## Assign a technology to each school by maximizing operator revenue"
   ]
  },
  {
   "cell_type": "markdown",
   "metadata": {
    "id": "ZzkTHA6yiZ3r"
   },
   "source": [
    "We assign the best technology for each school by:\n",
    "\n",
    "1. Considering **only feasible** options.\n",
    "2. Among the feasible options, selecting the technology with **highest net revenue**.\n",
    "3. Marking schools where no options exist as **unconnected**.\n",
    "\n",
    "This helps identify the most economically viable connection method for each school."
   ]
  },
  {
   "cell_type": "code",
   "execution_count": null,
   "metadata": {
    "executionInfo": {
     "elapsed": 4,
     "status": "ok",
     "timestamp": 1746434067654,
     "user": {
      "displayName": "Sébastien Peytrignet",
      "userId": "16751219594389189725"
     },
     "user_tz": -120
    },
    "id": "Hjrx65gblLhq"
   },
   "outputs": [],
   "source": [
    "# STEP 1: Find the most profitable technology for each school\n",
    "# List all our revenue columns for each technology\n",
    "revenue_cols = ['fiber_net_revenue', 'p2area_net_revenue',\n",
    "                'p2p_net_revenue', 'satellite_net_revenue']\n",
    "\n",
    "# For each school, find which technology gives the highest revenue\n",
    "# The idxmax function returns the column name with the highest value\n",
    "# Then we clean up the column by removing '_net_revenue' from the end\n",
    "net_revenues['technology'] = net_revenues[revenue_cols].idxmax(axis=1).str.replace('_net_revenue', '')\n",
    "\n",
    "# STEP 2: Handle schools with no viable options\n",
    "# Check which schools have no revenue data at all (all values are missing)\n",
    "mask = net_revenues[revenue_cols].isna().all(axis=1)\n",
    "# For these schools, mark them as \"unconnected\"\n",
    "net_revenues.loc[mask, 'technology'] = \"unconnected\"\n",
    "\n",
    "# STEP 3: Add cost information for each school's selected technology, so everything is in the same table\n",
    "# First reset the index to make school_id a regular column\n",
    "# Then merge with costs table based on the selected technology\n",
    "# Finally, put school_id back as the index\n",
    "net_revenues = pd.merge(net_revenues.reset_index(),\n",
    "                       costs,\n",
    "                       on='technology',\n",
    "                       how='left').set_index(\"school_id\")"
   ]
  },
  {
   "cell_type": "code",
   "execution_count": null,
   "metadata": {
    "colab": {
     "base_uri": "https://localhost:8080/",
     "height": 238
    },
    "executionInfo": {
     "elapsed": 2,
     "status": "ok",
     "timestamp": 1746434067656,
     "user": {
      "displayName": "Sébastien Peytrignet",
      "userId": "16751219594389189725"
     },
     "user_tz": -120
    },
    "id": "brFeFQvJOBJR",
    "outputId": "52f111e1-1596-45de-a374-07be02d90599"
   },
   "outputs": [],
   "source": [
    "# Display net revenues again, this time with technology selection\n",
    "net_revenues.head()"
   ]
  },
  {
   "cell_type": "markdown",
   "metadata": {
    "id": "8ZM2bFqNiZ3r"
   },
   "source": [
    "## Visualize the technology assignment"
   ]
  },
  {
   "cell_type": "markdown",
   "metadata": {
    "id": "d-0Fh17uiZ3r"
   },
   "source": [
    "We create two main visualizations:\n",
    "\n",
    "1. **Bar Chart**: Shows how many schools are assigned to each technology\n",
    "2. **Interactive Map**: Displays schools color-coded by their assigned technology"
   ]
  },
  {
   "cell_type": "markdown",
   "metadata": {
    "id": "vYJnaySSiZ3s"
   },
   "source": [
    "### Bar chart"
   ]
  },
  {
   "cell_type": "code",
   "execution_count": null,
   "metadata": {
    "cellView": "form",
    "colab": {
     "base_uri": "https://localhost:8080/",
     "height": 606
    },
    "executionInfo": {
     "elapsed": 213,
     "status": "ok",
     "timestamp": 1746434067869,
     "user": {
      "displayName": "Sébastien Peytrignet",
      "userId": "16751219594389189725"
     },
     "user_tz": -120
    },
    "id": "bgpRUvg8iZ3s",
    "outputId": "a50dfe45-42c2-4ded-f076-fcb66e31d89f"
   },
   "outputs": [],
   "source": [
    "# @title Figure: Distribution of Selected Technologies\n",
    "plt.figure(figsize=(10, 6))\n",
    "sns.barplot(data=net_revenues[\"technology\"].value_counts().reset_index(),\n",
    "           x=\"technology\",\n",
    "           y=\"count\",\n",
    "           palette=color_map,\n",
    "           hue=\"technology\")\n",
    "plt.title('Distribution of Selected Technologies', pad=20)\n",
    "plt.xlabel('Technology')\n",
    "plt.ylabel('Number of schools')\n",
    "plt.xticks(rotation=0)\n",
    "plt.grid(axis='y', linestyle='--', alpha=0.7)\n",
    "plt.gca().yaxis.set_major_formatter(FuncFormatter(lambda x, p: format(int(x), ',')))\n",
    "plt.tight_layout()"
   ]
  },
  {
   "cell_type": "code",
   "execution_count": null,
   "metadata": {
    "cellView": "form",
    "colab": {
     "base_uri": "https://localhost:8080/",
     "height": 807
    },
    "executionInfo": {
     "elapsed": 212,
     "status": "ok",
     "timestamp": 1746434068084,
     "user": {
      "displayName": "Sébastien Peytrignet",
      "userId": "16751219594389189725"
     },
     "user_tz": -120
    },
    "id": "dQYiXXD6WC16",
    "outputId": "144c5e4a-a0c5-4b6d-ef76-d7f751b1923b"
   },
   "outputs": [],
   "source": [
    "# @title Figure: Breakdown of Total Costs\n",
    "plt.figure(figsize=(10, 8))\n",
    "cost_data = net_revenues.groupby(\"technology\")[\"total_cost\"].sum()\n",
    "plt.pie(cost_data,\n",
    "        labels=[tech.capitalize() for tech in cost_data.index],\n",
    "        colors=[color_map[tech] for tech in cost_data.index],\n",
    "        autopct='%1.1f%%',\n",
    "        startangle=90,\n",
    "        pctdistance=0.85,\n",
    "        wedgeprops=dict(width=0.5))\n",
    "plt.title('Breakdown of Total Costs by Technology', pad=20)\n",
    "plt.tight_layout()"
   ]
  },
  {
   "cell_type": "markdown",
   "metadata": {
    "id": "11yZMKiCiZ3s"
   },
   "source": [
    "### Map"
   ]
  },
  {
   "cell_type": "code",
   "execution_count": null,
   "metadata": {
    "cellView": "form",
    "executionInfo": {
     "elapsed": 117,
     "status": "ok",
     "timestamp": 1746434068199,
     "user": {
      "displayName": "Sébastien Peytrignet",
      "userId": "16751219594389189725"
     },
     "user_tz": -120
    },
    "id": "O1_7bukRiZ3s"
   },
   "outputs": [],
   "source": [
    "# @title Figure: Interactive Map\n",
    "def plot_points_by_technology(points_gdf, color_map, coverage_gdf=None, title=\"Points by Technology\", zoom=6):\n",
    "    \"\"\"\n",
    "    Create an interactive map with points colored by selected technology and optional 4G coverage\n",
    "    \"\"\"\n",
    "    if points_gdf.crs != \"EPSG:4326\":\n",
    "        points_gdf = points_gdf.to_crs(\"EPSG:4326\")\n",
    "\n",
    "    center_lat = points_gdf.geometry.y.mean()\n",
    "    center_lon = points_gdf.geometry.x.mean()\n",
    "    m = folium.Map(location=[center_lat, center_lon], zoom_start=zoom)\n",
    "\n",
    "    # Add 4G coverage layer if provided\n",
    "    if coverage_gdf is not None:\n",
    "        if coverage_gdf.crs != \"EPSG:4326\":\n",
    "            coverage_gdf = coverage_gdf.to_crs(\"EPSG:4326\")\n",
    "\n",
    "        coverage_group = folium.FeatureGroup(name=\"4G Coverage\")\n",
    "\n",
    "        folium.GeoJson(\n",
    "            coverage_gdf,\n",
    "            style_function=lambda x: {\n",
    "                'fillColor': '#4287f5',\n",
    "                'fillOpacity': 0.2,\n",
    "                'color': '#2664ba',\n",
    "                'weight': 1\n",
    "            }\n",
    "        ).add_to(coverage_group)\n",
    "\n",
    "        coverage_group.add_to(m)\n",
    "\n",
    "    title_html = f'''\n",
    "    <div style=\"position: fixed;\n",
    "                top: 10px;\n",
    "                left: 50px;\n",
    "                z-index: 1000;\n",
    "                background-color: white;\n",
    "                padding: 10px;\n",
    "                border-radius: 5px;\">\n",
    "        <h4>{title}</h4>\n",
    "        Total Points: {len(points_gdf)}\n",
    "    </div>\n",
    "    '''\n",
    "\n",
    "    # Modified legend with separate sections\n",
    "    legend_html = '''\n",
    "    <div style=\"position: fixed;\n",
    "                bottom: 50px;\n",
    "                right: 50px;\n",
    "                z-index: 1000;\n",
    "                background-color: white;\n",
    "                padding: 10px;\n",
    "                border-radius: 5px;\">\n",
    "    '''\n",
    "\n",
    "    # Schools section\n",
    "    legend_html += '<p><strong>Schools by Technology</strong></p>'\n",
    "    for tech, color in color_map.items():\n",
    "        legend_html += f'<p><span style=\"color:{color}\">●</span> {tech}</p>'\n",
    "\n",
    "    # Coverage section if provided\n",
    "    if coverage_gdf is not None:\n",
    "        legend_html += '<hr style=\"margin: 10px 0;\">'  # Separator line\n",
    "        legend_html += '<p><strong>Network Coverage</strong></p>'\n",
    "        legend_html += f'<p><span style=\"color:#4287f5\">■</span> 4G Coverage</p>'\n",
    "\n",
    "    legend_html += '</div>'\n",
    "\n",
    "    m.get_root().html.add_child(folium.Element(title_html))\n",
    "    m.get_root().html.add_child(folium.Element(legend_html))\n",
    "\n",
    "    points_group = folium.FeatureGroup(name=\"Schools\")\n",
    "\n",
    "    for _, row in points_gdf.iterrows():\n",
    "        color = color_map.get(row.technology, '#808080')  # gray for NaN\n",
    "        popup_content = (\n",
    "            f\"ID: {row.name}<br>\"\n",
    "            f\"Technology: {row.technology}<br>\"\n",
    "            f\"Cell Site Distance: {row.cell_site_distance:.2f} km<br>\"\n",
    "            f\"Fiber Node Distance: {row.fiber_node_distance:.2f} km<br>\"\n",
    "            f\"Coverage: {row.coverage}<br>\"\n",
    "            f\"Population (1km): {row.population_1km:,.0f}<br>\"\n",
    "            f\"Visible: {row.visible}\"\n",
    "        )\n",
    "        folium.CircleMarker(\n",
    "            location=[row.geometry.y, row.geometry.x],\n",
    "            radius=5,\n",
    "            color='black',\n",
    "            weight=1,\n",
    "            fill=True,\n",
    "            fill_color=color,\n",
    "            fill_opacity=0.7,\n",
    "            popup=popup_content\n",
    "        ).add_to(points_group)\n",
    "\n",
    "    points_group.add_to(m)\n",
    "\n",
    "    # Add layer control\n",
    "    folium.LayerControl().add_to(m)\n",
    "\n",
    "    return m"
   ]
  },
  {
   "cell_type": "code",
   "execution_count": null,
   "metadata": {
    "executionInfo": {
     "elapsed": 57,
     "status": "ok",
     "timestamp": 1746434068257,
     "user": {
      "displayName": "Sébastien Peytrignet",
      "userId": "16751219594389189725"
     },
     "user_tz": -120
    },
    "id": "ZKQmxy23iZ3s"
   },
   "outputs": [],
   "source": [
    "# Combine our main results table with the selected technology for each school\n",
    "# 1. Start with merged_results (our main table with school information)\n",
    "# 2. Add the \"technology\" column, which is the result of technology selection\n",
    "# 3. Keep only schools where we were able to select a technology (remove rows where technology is missing)\n",
    "technology_selection = (merged_results\n",
    "                       .merge(net_revenues[\"technology\"],\n",
    "                             left_index=True,  # Use index (school_id) to match rows\n",
    "                             right_index=True)\n",
    "                       .dropna(subset=[\"technology\"]))"
   ]
  },
  {
   "cell_type": "code",
   "execution_count": null,
   "metadata": {
    "colab": {
     "base_uri": "https://localhost:8080/",
     "height": 910,
     "output_embedded_package_id": "1BRDituK_MS5-8Pc25EGY4H9jHsqKL8V_"
    },
    "executionInfo": {
     "elapsed": 3672,
     "status": "ok",
     "timestamp": 1746434071931,
     "user": {
      "displayName": "Sébastien Peytrignet",
      "userId": "16751219594389189725"
     },
     "user_tz": -120
    },
    "id": "A4twGXeOiZ3s",
    "outputId": "29320e6d-680a-4ca6-82bb-93a04edc6902"
   },
   "outputs": [],
   "source": [
    "# Plot the technology selection\n",
    "m = plot_points_by_technology(technology_selection, color_map, coverage_4G, title=\"Schools by Selected Technology\", zoom=6)\n",
    "display(m)"
   ]
  },
  {
   "cell_type": "markdown",
   "metadata": {
    "id": "2xTGTQkbWf_c"
   },
   "source": [
    "## Knowledge check"
   ]
  },
  {
   "cell_type": "markdown",
   "metadata": {
    "id": "jdVlwy3Z0A2c"
   },
   "source": [
    "> Describe how a technology was selected for each school.\n"
   ]
  },
  {
   "cell_type": "markdown",
   "metadata": {
    "id": "DjgTm3xU0I0I"
   },
   "source": [
    "..."
   ]
  },
  {
   "cell_type": "markdown",
   "metadata": {
    "id": "0WBbKR5M0W6t"
   },
   "source": [
    "> What geographical patterns can you see in the final technological assignment?"
   ]
  },
  {
   "cell_type": "markdown",
   "metadata": {
    "id": "-3BeiNDs0dkP"
   },
   "source": [
    "..."
   ]
  },
  {
   "cell_type": "markdown",
   "metadata": {
    "id": "wxbuuz480eyH"
   },
   "source": [
    "> If satellite became *not feasible* for all schools in the country, what would the new technological assignment be?"
   ]
  },
  {
   "cell_type": "markdown",
   "metadata": {
    "id": "pjPN7xOE0tgy"
   },
   "source": [
    "..."
   ]
  },
  {
   "cell_type": "markdown",
   "metadata": {
    "id": "d9UwFO59X_TE"
   },
   "source": [
    ">  If the maximum length of fiber line allowed was 1km, what would the new technological assignment be?\n"
   ]
  },
  {
   "cell_type": "markdown",
   "metadata": {
    "id": "x4fr3ZfH03f3"
   },
   "source": [
    "..."
   ]
  }
 ],
 "metadata": {
  "colab": {
   "provenance": [
    {
     "file_id": "https://github.com/FNS-Division/GIGA-applied-geospatial-tools/blob/main/cost_modelling.ipynb",
     "timestamp": 1746431460293
    }
   ]
  },
  "kernelspec": {
   "display_name": "giga-inframapkit-env",
   "language": "python",
   "name": "python3"
  },
  "language_info": {
   "codemirror_mode": {
    "name": "ipython",
    "version": 3
   },
   "file_extension": ".py",
   "mimetype": "text/x-python",
   "name": "python",
   "nbconvert_exporter": "python",
   "pygments_lexer": "ipython3",
   "version": "3.11.11"
  }
 },
 "nbformat": 4,
 "nbformat_minor": 0
}
