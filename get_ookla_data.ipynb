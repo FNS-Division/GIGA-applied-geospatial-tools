{
 "cells": [
  {
   "cell_type": "markdown",
   "metadata": {
    "colab_type": "text",
    "id": "view-in-github"
   },
   "source": [
    "<a href=\"https://colab.research.google.com/github/FNS-Division/GIGA-applied-geospatial-tools/blob/main/get_ookla_data.ipynb\" target=\"_parent\"><img src=\"https://colab.research.google.com/assets/colab-badge.svg\" alt=\"Open In Colab\"/></a>"
   ]
  },
  {
   "cell_type": "markdown",
   "metadata": {
    "id": "_UE_yZe6FHqY"
   },
   "source": [
    "# Get open data from Ookla Speedtest on mobile and fixed network performance"
   ]
  },
  {
   "cell_type": "code",
   "execution_count": null,
   "metadata": {
    "colab": {
     "base_uri": "https://localhost:8080/"
    },
    "id": "SpN64xIXDDzI",
    "outputId": "ad555002-5553-4059-87be-d62d6a5060ef"
   },
   "outputs": [],
   "source": [
    "!pip install s3fs"
   ]
  },
  {
   "cell_type": "code",
   "execution_count": null,
   "metadata": {
    "id": "tl4_bfK5812-"
   },
   "outputs": [],
   "source": [
    "import pandas as pd\n",
    "import pyarrow.parquet as pq\n",
    "import os\n",
    "from pathlib import Path\n",
    "import ipywidgets as widgets\n",
    "import s3fs"
   ]
  },
  {
   "cell_type": "code",
   "execution_count": null,
   "metadata": {
    "cellView": "form",
    "colab": {
     "base_uri": "https://localhost:8080/",
     "height": 342,
     "referenced_widgets": [
      "a58af535d3ad4337a71a57a560f38beb",
      "ac6aea7851784418ba976a0bd49b0e85",
      "b272ac379c824372b8bc8f118eb2ff42",
      "8f5400f43cb14b799479823f250b3784",
      "256ae16ed7634d77933f2698eb7e24d5",
      "940d709184aa43a98ae0a85afa7a9f5c",
      "fb1a41c207a74773bdf7fa68386d9d34",
      "fb6fac82f60f41c3880964127847fa38",
      "f2f6b1d2755942d89163b7331e4b88b4",
      "054eded753e34d269c933ee7821385c1",
      "cff4393dc24f4729aec1be3547b28e77",
      "a663fe0d08064ba3ab7002a806b4ae6a",
      "ff92ad134d3144bbbc9edfe970b2ad6e",
      "8faf692a99a54f6589ca74c74f816987",
      "ca169b638ce34d65b6a72ec1cc3f7b2b",
      "c5b17ecd923d4f9aac163bf29fb682b8",
      "b757a351d3c44195942708b78bebe59c",
      "e0f7cd9aec364dd7a438f2269f99699b",
      "156916e03bab4cce9a47c16a6be626a0",
      "cdff95cd920c429fa8c610fc23e37876",
      "07d69af4a53b4c1d9d739ca72b2ac075",
      "10eed076457b4310aa486753b0f10d74",
      "7b402cbbcc4d46adaceab6fe8dd8e708",
      "e92e3e0f8b5e4210b75690fec1a3ba04",
      "c87ba7102d6949c280bb7f88146e74ea",
      "8cc75a72f2fd43e8bf124ead8d600884",
      "2237c3b2bb6644f39633577e7348739e",
      "11ff181fe3b047bfa398d24886d29bac",
      "2d92b1fb7ea54871a60a98d57e866dc7",
      "22301cc7fbda496ebc654a100fcdf6c5",
      "241b2d87d51e46a4940a08ce50f02992",
      "bed62cc1654b467b9cc9eae614dd6f57",
      "0708aa392c864e4ea3444961301382db",
      "df774405179648729b44242351523411",
      "c0b0fea7532e4007bc09fc43e3b8b878",
      "c96e360890f6406c94bcfde300472118"
     ]
    },
    "id": "dZbiun9y_JRR",
    "outputId": "5cdda221-dcf6-4f37-bb62-4d708052ff04"
   },
   "outputs": [],
   "source": [
    "# @title Configure Ookla download\n",
    "# Data Selection Parameters\n",
    "data_params = {\n",
    "    'data_type': widgets.Dropdown(\n",
    "        options=['fixed', 'mobile'],\n",
    "        value='fixed',\n",
    "        description='Data Type:',\n",
    "        style={'description_width': 'initial'}\n",
    "    ),\n",
    "    'year': widgets.IntText(\n",
    "        value=2024,\n",
    "        description='Year:',\n",
    "        style={'description_width': 'initial'}\n",
    "    ),\n",
    "    'quarter': widgets.IntSlider(\n",
    "        value=2,\n",
    "        min=1,\n",
    "        max=4,\n",
    "        step=1,\n",
    "        description='Quarter:',\n",
    "        style={'description_width': 'initial'}\n",
    "    )\n",
    "}\n",
    "\n",
    "# Coordinate Bounds\n",
    "coordinate_bounds = {\n",
    "    'min_x': widgets.FloatText(\n",
    "        value=-73.8015,\n",
    "        description='Min X:',\n",
    "        style={'description_width': 'initial'}\n",
    "    ),\n",
    "    'max_x': widgets.FloatText(\n",
    "        value=-56.0975,\n",
    "        description='Max X:',\n",
    "        style={'description_width': 'initial'}\n",
    "    ),\n",
    "    'min_y': widgets.FloatText(\n",
    "        value=-9.8180,\n",
    "        description='Min Y:',\n",
    "        style={'description_width': 'initial'}\n",
    "    ),\n",
    "    'max_y': widgets.FloatText(\n",
    "        value=2.2466,\n",
    "        description='Max Y:',\n",
    "        style={'description_width': 'initial'}\n",
    "    )\n",
    "}\n",
    "\n",
    "# Create layout for data parameters\n",
    "data_layout = widgets.VBox([\n",
    "    widgets.HTML(value='<b>Data Selection Parameters</b>'),\n",
    "    data_params['data_type'],\n",
    "    data_params['year'],\n",
    "    data_params['quarter']\n",
    "])\n",
    "\n",
    "# Create layout for coordinate bounds\n",
    "coordinates_layout = widgets.VBox([\n",
    "    widgets.HTML(value='<b>Coordinate Bounds</b>'),\n",
    "    coordinate_bounds['min_x'],\n",
    "    coordinate_bounds['max_x'],\n",
    "    coordinate_bounds['min_y'],\n",
    "    coordinate_bounds['max_y']\n",
    "])\n",
    "\n",
    "# Combine both layouts\n",
    "combined_layout = widgets.VBox([\n",
    "    data_layout,\n",
    "    widgets.HTML(value='<br>'),  # Add some spacing\n",
    "    coordinates_layout\n",
    "])\n",
    "\n",
    "display(combined_layout)\n"
   ]
  },
  {
   "cell_type": "code",
   "execution_count": null,
   "metadata": {
    "cellView": "form",
    "id": "Tp_PycWZ9r_O"
   },
   "outputs": [],
   "source": [
    "# @title Helper functions\n",
    "def create_output_directory(base_path=\"ookla_data\"):\n",
    "    \"\"\"\n",
    "    Create a directory to store the output files if it doesn't exist.\n",
    "\n",
    "    Args:\n",
    "        base_path (str): The path where you want to create the directory\n",
    "\n",
    "    Returns:\n",
    "        Path: Path object pointing to the created directory\n",
    "    \"\"\"\n",
    "    output_dir = Path(base_path)\n",
    "    output_dir.mkdir(parents=True, exist_ok=True)\n",
    "    return output_dir\n",
    "\n",
    "\n",
    "def get_perf_tiles_parquet_url(service: str, year: int, quarter: int) -> str:\n",
    "    \"\"\"\n",
    "    Generate the correct S3 URL for Ookla performance tiles data.\n",
    "\n",
    "    Args:\n",
    "        service (str): Either 'fixed' or 'mobile'\n",
    "        year (int): Year of the data\n",
    "        quarter (int): Quarter number (1-4)\n",
    "    \"\"\"\n",
    "    quarter_start = f\"{year}-{(((quarter - 1) * 3) + 1):02}-01\"\n",
    "    url = f\"s3://ookla-open-data/parquet/performance/type={service}/year={year}/quarter={quarter}/{quarter_start}_performance_{service}_tiles.parquet\"\n",
    "    return url\n",
    "\n",
    "def download_ookla_data(data_type, year, quarter, bounds, output_path):\n",
    "    \"\"\"\n",
    "    Download and filter Ookla network performance data using efficient Parquet filtering.\n",
    "\n",
    "    Args:\n",
    "        data_type (str): Either 'fixed' or 'mobile'\n",
    "        year (int): Year of the data\n",
    "        quarter (int): Quarter of the data (1-4)\n",
    "        bounds (dict): Dictionary containing geographical bounds\n",
    "        output_path (Path): Path to save the output CSV\n",
    "    \"\"\"\n",
    "    # Get the correct URL\n",
    "    url = get_perf_tiles_parquet_url(data_type, year, quarter)\n",
    "\n",
    "    # Create bbox filters for efficient Parquet reading\n",
    "    bbox_filters = [\n",
    "        ('tile_y', '<=', bounds['max_y']),\n",
    "        ('tile_y', '>=', bounds['min_y']),\n",
    "        ('tile_x', '<=', bounds['max_x']),\n",
    "        ('tile_x', '>=', bounds['min_x'])\n",
    "    ]\n",
    "\n",
    "    # Columns to retrieve\n",
    "    columns = ['tile_x', 'tile_y', 'tests', 'avg_d_kbps', 'avg_lat_ms']\n",
    "\n",
    "    print(f\"Downloading {data_type} data from {url}\")\n",
    "    print(f\"Applying bounds filter: {bounds}\")\n",
    "\n",
    "    # Read parquet file with predicate pushdown filtering\n",
    "    try:\n",
    "        df = pd.read_parquet(\n",
    "            url,\n",
    "            filters=bbox_filters,\n",
    "            columns=columns,\n",
    "            storage_options={\"s3\": {\"anon\": True}}\n",
    "        )\n",
    "\n",
    "        # Save to CSV\n",
    "        output_file = output_path / f\"{data_type}_network_data.csv\"\n",
    "        df.to_csv(output_file, index=False)\n",
    "        print(f\"Saved filtered data to {output_file}\")\n",
    "        print(f\"Retrieved {len(df)} records\")\n",
    "\n",
    "        return df\n",
    "\n",
    "    except Exception as e:\n",
    "        print(f\"Error downloading data: {str(e)}\")\n",
    "        raise"
   ]
  },
  {
   "cell_type": "code",
   "execution_count": null,
   "metadata": {
    "colab": {
     "base_uri": "https://localhost:8080/",
     "height": 497
    },
    "id": "6J0xUcTJ_npD",
    "outputId": "4d4cf814-0a40-417c-aa77-a0054b0c77bb"
   },
   "outputs": [],
   "source": [
    "# Dictionary of bounds\n",
    "bounds = {\n",
    "    'min_x': coordinate_bounds[\"min_x\"].value,\n",
    "    'max_x': coordinate_bounds[\"max_x\"].value,\n",
    "    'min_y': coordinate_bounds[\"min_y\"].value,\n",
    "    'max_y': coordinate_bounds[\"max_y\"].value\n",
    "}\n",
    "\n",
    "# Create output directory\n",
    "output_dir = create_output_directory()"
   ]
  },
  {
   "cell_type": "code",
   "execution_count": null,
   "metadata": {},
   "outputs": [],
   "source": [
    "# Download mobile data\n",
    "download_ookla_data(\n",
    "    data_type=\"mobile\",\n",
    "    year=data_params[\"year\"].value,\n",
    "    quarter=data_params[\"quarter\"].value,\n",
    "    bounds=bounds,\n",
    "    output_path=output_dir\n",
    ")\n",
    "\n",
    "# Download fixed data\n",
    "download_ookla_data(\n",
    "    data_type=\"fixed\",\n",
    "    year=data_params[\"year\"].value,\n",
    "    quarter=data_params[\"quarter\"].value,\n",
    "    bounds=bounds,\n",
    "    output_path=output_dir\n",
    ")"
   ]
  }
 ],
 "metadata": {
  "colab": {
   "authorship_tag": "ABX9TyPNDQ9coLUEJ5sMkRopUF7P",
   "include_colab_link": true,
   "provenance": []
  },
  "kernelspec": {
   "display_name": "giga-inframapkit-env",
   "language": "python",
   "name": "python3"
  },
  "language_info": {
   "codemirror_mode": {
    "name": "ipython",
    "version": 3
   },
   "file_extension": ".py",
   "mimetype": "text/x-python",
   "name": "python",
   "nbconvert_exporter": "python",
   "pygments_lexer": "ipython3",
   "version": "3.11.11"
  }
 },
 "nbformat": 4,
 "nbformat_minor": 0
}
