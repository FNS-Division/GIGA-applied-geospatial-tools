{
 "cells": [
  {
   "cell_type": "markdown",
   "id": "3b75fc5b",
   "metadata": {},
   "source": [
    "<a href=\"https://colab.research.google.com/github/FNS-Division/GIGA-applied-geospatial-tools/blob/main/get_oci_data.ipynb\" target=\"_parent\"><img src=\"https://colab.research.google.com/assets/colab-badge.svg\" alt=\"Open In Colab\"/></a>"
   ]
  },
  {
   "cell_type": "markdown",
   "id": "201c94af",
   "metadata": {},
   "source": [
    "![Logo](https://www.itu.int/web/pp-18/assets/logo/itu_logo.png)"
   ]
  },
  {
   "cell_type": "markdown",
   "id": "8b2726ea",
   "metadata": {},
   "source": [
    "# Get open data from Open Cell ID on cell site locations"
   ]
  },
  {
   "cell_type": "code",
   "execution_count": 10,
   "id": "fac2a173",
   "metadata": {},
   "outputs": [],
   "source": [
    "import pandas as pd\n",
    "import geopandas as gpd\n",
    "import gzip\n",
    "import shutil"
   ]
  },
  {
   "cell_type": "code",
   "execution_count": 3,
   "id": "8d02091b",
   "metadata": {},
   "outputs": [],
   "source": [
    "def unzip_gz(gz_file_path, output_path=None):\n",
    "    \"\"\"\n",
    "    Unzips a .gz file and returns the path to the unzipped file.\n",
    "\n",
    "    Args:\n",
    "        gz_file_path (str): Path to the .gz file\n",
    "        output_path (str): Path for the output file.\n",
    "\n",
    "    Returns:\n",
    "        str: Path to the unzipped file\n",
    "    \"\"\"\n",
    "    # Create output directory if it doesn't exist\n",
    "    output_dir = os.path.dirname(output_path)\n",
    "    if output_dir and not os.path.exists(output_dir):\n",
    "        os.makedirs(output_dir)\n",
    "\n",
    "    # Unzip the file\n",
    "    with gzip.open(gz_file_path, 'rb') as f_in:\n",
    "        with open(output_path, 'wb') as f_out:\n",
    "            shutil.copyfileobj(f_in, f_out)\n",
    "\n",
    "    return output_path"
   ]
  },
  {
   "cell_type": "code",
   "execution_count": 14,
   "id": "24256053",
   "metadata": {},
   "outputs": [],
   "source": [
    "# Location of file downloaded from OCI\n",
    "location_of_gz_file = \"724.csv.gz\"\n",
    "\n",
    "# Unzip the file\n",
    "unzipped_cell_sites = unzip_gz(location_of_gz_file,\"oci_cell_sites.csv\")\n",
    "\n",
    "# Load and add in the column names\n",
    "cell_sites_oci = pd.read_csv(unzipped_cell_sites, header=None,\n",
    "                         names = ['radio', 'mcc', 'net', 'area', 'cell', 'unit', 'lon', 'lat',\n",
    "                                  'range', 'samples', 'changeable', 'created', 'updated', 'averageSignal'])\n",
    "\n",
    "# Convert to a GeoDataFrame\n",
    "cell_sites_oci_gdf = gpd.GeoDataFrame(cell_sites_oci, geometry=gpd.points_from_xy(cell_sites_oci.lon, cell_sites_oci.lat), crs=\"EPSG:4326\")\n",
    "\n",
    "# Save to GeoJSON\n",
    "cell_sites_oci_gdf.to_file(\"oci_cell_sites.geojson\", driver='GeoJSON')"
   ]
  }
 ],
 "metadata": {
  "kernelspec": {
   "display_name": "giga-inframapkit-env",
   "language": "python",
   "name": "python3"
  },
  "language_info": {
   "codemirror_mode": {
    "name": "ipython",
    "version": 3
   },
   "file_extension": ".py",
   "mimetype": "text/x-python",
   "name": "python",
   "nbconvert_exporter": "python",
   "pygments_lexer": "ipython3",
   "version": "3.11.11"
  }
 },
 "nbformat": 4,
 "nbformat_minor": 5
}
