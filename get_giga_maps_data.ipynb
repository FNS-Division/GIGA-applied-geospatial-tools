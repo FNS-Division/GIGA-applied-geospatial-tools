{
 "cells": [
  {
   "cell_type": "markdown",
   "metadata": {},
   "source": [
    "![Logo](https://www.itu.int/web/pp-18/assets/logo/itu_logo.png)"
   ]
  },
  {
   "cell_type": "markdown",
   "metadata": {},
   "source": [
    "# Get data from Giga Maps"
   ]
  },
  {
   "cell_type": "code",
   "execution_count": null,
   "metadata": {
    "colab": {
     "base_uri": "https://localhost:8080/"
    },
    "id": "4GbN5GrbJj4-",
    "outputId": "39436aee-5a5e-42a8-da0d-9ef9d588ddd0"
   },
   "outputs": [],
   "source": [
    "pip install delta-sharing pycountry"
   ]
  },
  {
   "cell_type": "code",
   "execution_count": null,
   "metadata": {
    "gather": {
     "logged": 1730808350305
    },
    "id": "hAcGdz0iJfa2"
   },
   "outputs": [],
   "source": [
    "import delta_sharing\n",
    "import pycountry\n",
    "import geopandas as gpd\n",
    "import ipywidgets as widgets\n",
    "from IPython.display import display"
   ]
  },
  {
   "cell_type": "code",
   "execution_count": null,
   "metadata": {
    "cellView": "form",
    "colab": {
     "base_uri": "https://localhost:8080/",
     "height": 49,
     "referenced_widgets": [
      "79710393e8954300afd6a1b36a774055",
      "3276822567a9447db1d3a119688a5663",
      "a1886c46001c4f949ff9b60e026e24b1"
     ]
    },
    "id": "dfYQFA5yX-qt",
    "outputId": "09ac1c63-ce50-4343-a5c1-00fc92b97b3e"
   },
   "outputs": [],
   "source": [
    "# @title Select country\n",
    "# Create dropdown: country name shown, ISO3 code stored\n",
    "country_dropdown = widgets.Dropdown(\n",
    "    options=sorted([(c.name, c.alpha_3) for c in pycountry.countries]),\n",
    "    description='Country:',\n",
    "    value='BRA'\n",
    ")\n",
    "\n",
    "display(country_dropdown)"
   ]
  },
  {
   "cell_type": "code",
   "execution_count": null,
   "metadata": {
    "colab": {
     "base_uri": "https://localhost:8080/"
    },
    "id": "Rm17pDVSJfa4",
    "jupyter": {
     "outputs_hidden": false,
     "source_hidden": false
    },
    "nteract": {
     "transient": {
      "deleting": false
     }
    },
    "outputId": "d8366510-b21b-411e-f019-412011554ec7"
   },
   "outputs": [],
   "source": [
    "# Get the key from blob storage\n",
    "profile_file = \"https://zstagigaprodeuw1.blob.core.windows.net/gigainframapkit-public-container/brazil/profile_prd.share\""
   ]
  },
  {
   "cell_type": "code",
   "execution_count": null,
   "metadata": {
    "id": "2a4URTPrZRnp"
   },
   "outputs": [],
   "source": [
    "# Create a Delta Sharing client and list all tables\n",
    "client = delta_sharing.SharingClient(profile_file)\n",
    "client.list_all_tables()"
   ]
  },
  {
   "cell_type": "code",
   "execution_count": null,
   "metadata": {
    "colab": {
     "base_uri": "https://localhost:8080/",
     "height": 255
    },
    "id": "BTlyLIXWJfa5",
    "jupyter": {
     "outputs_hidden": false,
     "source_hidden": false
    },
    "nteract": {
     "transient": {
      "deleting": false
     }
    },
    "outputId": "3d2a37eb-d487-4912-81ee-034ebc2659c0"
   },
   "outputs": [],
   "source": [
    "# Load the table and filter by country\n",
    "table_url = profile_file + f\"#gold.school-master.{country_dropdown.value}\"\n",
    "school_data = delta_sharing.load_as_pandas(table_url)"
   ]
  },
  {
   "cell_type": "code",
   "execution_count": null,
   "metadata": {},
   "outputs": [],
   "source": [
    "# Display the first few rows of the data\n",
    "school_data.head()"
   ]
  },
  {
   "cell_type": "code",
   "execution_count": null,
   "metadata": {},
   "outputs": [],
   "source": [
    "# Filter the data to include only relevant columns\n",
    "school_data = school_data[[\"school_data_source\",\"school_name\",\"latitude\",\"longitude\",\"education_level\",\"num_students\",\"electricity_availability\",\"electricity_type\",\"connectivity_type\"]]"
   ]
  },
  {
   "cell_type": "code",
   "execution_count": null,
   "metadata": {},
   "outputs": [],
   "source": [
    "# Convert the DataFrame to a GeoDataFrame\n",
    "school_data = gpd.GeoDataFrame(school_data, geometry=gpd.points_from_xy(school_data.longitude, school_data.latitude), crs=\"4326\")"
   ]
  },
  {
   "cell_type": "code",
   "execution_count": null,
   "metadata": {
    "id": "kE4JD951Jfa7"
   },
   "outputs": [],
   "source": [
    "# Save the filtered data to a CSV file\n",
    "school_data.to_file(\"school_data.geojson\", driver=\"GeoJSON\")"
   ]
  }
 ],
 "metadata": {
  "colab": {
   "provenance": []
  },
  "kernel_info": {
   "name": "python310-sdkv2"
  },
  "kernelspec": {
   "display_name": "inframapkit-env",
   "language": "python",
   "name": "python3"
  },
  "language_info": {
   "codemirror_mode": {
    "name": "ipython",
    "version": 3
   },
   "file_extension": ".py",
   "mimetype": "text/x-python",
   "name": "python",
   "nbconvert_exporter": "python",
   "pygments_lexer": "ipython3",
   "version": "3.9.18"
  },
  "microsoft": {
   "ms_spell_check": {
    "ms_spell_check_language": "en"
   }
  },
  "nteract": {
   "version": "nteract-front-end@1.0.0"
  }
 },
 "nbformat": 4,
 "nbformat_minor": 0
}
